{
 "cells": [
  {
   "cell_type": "markdown",
   "metadata": {},
   "source": [
    "## Reminders of syntax with the facile library"
   ]
  },
  {
   "cell_type": "markdown",
   "metadata": {},
   "source": [
    "<div class=\"alert alert-success\">\n",
    "    <b>Hint</b>: Constraints may be summed: the result is the number of True values in the set of constraints.<br/>(However, this doesn't work with global constraints such as alldifferent)\n",
    "</div>\n",
    "\n",
    "Example: Find an array of length $n$ taking values in $[0, n-1]$ so that the $i$-th value is equal to the number of $i$ inside the array."
   ]
  },
  {
   "cell_type": "code",
   "execution_count": 2,
   "metadata": {},
   "outputs": [],
   "source": [
    "import facile\n",
    "%matplotlib inline"
   ]
  },
  {
   "cell_type": "code",
   "execution_count": 3,
   "metadata": {},
   "outputs": [
    {
     "name": "stdout",
     "output_type": "stream",
     "text": [
      "indices: [0, 1, 2, 3, 4, 5, 6, 7, 8, 9]\n",
      "array:   [6, 2, 1, 0, 0, 0, 1, 0, 0, 0]\n"
     ]
    },
    {
     "name": "stderr",
     "output_type": "stream",
     "text": [
      "D:\\Anaconda3\\lib\\site-packages\\ipykernel_launcher.py:7: DeprecationWarning: Using or importing the ABCs from 'collections' instead of from 'collections.abc' is deprecated since Python 3.3,and in 3.9 it will stop working\n",
      "  import sys\n"
     ]
    }
   ],
   "source": [
    "n = 10\n",
    "array = [facile.variable(range(n)) for i in range(n)]\n",
    "\n",
    "for i in range(n):\n",
    "    facile.constraint(sum([x == i for x in array]) == array[i])\n",
    "\n",
    "if facile.solve(array):\n",
    "    print(f\"indices: {list(range(n))}\")\n",
    "    print(f\"array:   {[v.value() for v in array]}\")"
   ]
  },
  {
   "cell_type": "markdown",
   "metadata": {},
   "source": [
    "<div class=\"alert alert-success\">\n",
    "    <b>Hint</b>: You may use the & and | operators for the logical $\\land$ and $\\lor$.<br/>(However, this doesn't work with global constraints such as alldifferent)\n",
    "</div>"
   ]
  },
  {
   "cell_type": "code",
   "execution_count": 4,
   "metadata": {},
   "outputs": [
    {
     "data": {
      "text/plain": [
       "(1, 0)"
      ]
     },
     "execution_count": 4,
     "metadata": {},
     "output_type": "execute_result"
    }
   ],
   "source": [
    "a, b = facile.variable([0, 1, 2]), facile.variable([0, 1, 2])\n",
    "\n",
    "left = (a == b) & (a + b == 2)\n",
    "right = a > b\n",
    "facile.constraint(left | right)\n",
    "result = facile.solve([a, b])\n",
    "a.value(), b.value()"
   ]
  },
  {
   "cell_type": "markdown",
   "metadata": {},
   "source": [
    "## Picross\n",
    "\n",
    "Picross is a popular game of a similar nature to Sudoku.  \n",
    "It consists of a grid of square dimension $n \\times n$ and of a list of integers for each row and each column.\n",
    "\n",
    "![](./picross_duck.png)\n",
    "\n",
    "We can use the following notations:\n",
    "\n",
    "- $b_{i,j} \\in \\{0, 1\\}$ represents a bit, indicating a column or a row where $i, j \\in \\{1, ..., n\\}$ represents a column or row index;\n",
    "- $m_i \\in \\{1, ..., \\lceil n/2 \\rceil\\}$ represents the size of the list associated to row/column $i$;\n",
    "- $a_{i,k} \\in \\{1, ..., n\\}$ is the $k$-th integer of the list associated to row/column $i$.\n",
    "\n",
    "The goal is to darken some cells of the grid, such that in each row/column $i$ the number of successive black cells form the list $\\{a_{i,1}, ..., a_{i,m_i}\\}$.\n",
    "\n",
    "<div class=\"alert alert-warning\">\n",
    "    <b>Paper submission</b> (half of the grade):<br/>\n",
    "Before heading to the code, you shall answer the following questions.<br/>\n",
    "    Please <b>handwrite</b> your answers on a separate sheet of paper. You will submit a pdf scan of this document together with your notebook.  \n",
    "(You may take a picture with your phone if need be but the pdf option is preferred.)\n",
    "</div>\n",
    "\n",
    "1. There are two ways to model the problem:\n",
    "    - binary variables (1) associated to the color of each cell, or\n",
    "    - integer variables (2) associated to the bottom/left coordinate of each black cluster.  \n",
    "  For **both** ways, specify the decision variables and their associated domain.\n",
    "\n",
    "2. Write the constraint stating that on each line and column, two blocks do not overlap.  \n",
    "Choose **one** of the two ways of modelling the problem (i.e. decision variables from (1) or from (2)) to express this constraint.\n",
    "\n",
    "3. Write the constraint that puts a limit to the number of black cells on each line/column.  \n",
    "Choose **one** of the two ways of modelling the problem (i.e. decision variables from (1) or from (2)) to express this constraint.\n",
    "\n",
    "4. Write the constraint that links decision variables from (1) to decision variables from (2), stating the conditions under which a cell must be coloured in black.\n",
    "\n",
    "<div class=\"alert alert-danger\">\n",
    "    Before you start coding, <b>please take time to understand</b> what happened: we stated two different ways to model the same problem (question 1.). Both are convenient for stating one part of the problem, but cannot state the whole set of constraints (question 2. and 3.).<br/>One constraint (question 4.) helps linking both decision variables.\n",
    "</div>\n",
    "\n",
    "You are provided with a set of problems in the Python dictionary `picross`. Your code will be evaluated on all these problems, but you should start with small problems like `moon`, `star` and `cat`. The most time-consuming should be `house` so do not try it before your code is stable.\n",
    "\n",
    "Have a look at variables `lines` and `columns`, since you will have to feed this data into your problem. From now, it should be (almost) direct to code the constraints you have written on paper into Python.\n",
    "\n",
    "<div class=\"alert alert-warning\">\n",
    "    Finally, <b>do not waste too much time on the output</b>.  \n",
    "    You will <b>not</b> get extra points with a fancy matplotlib plot.  \n",
    "    A text output, with stars (<code>*</code>) or black characters (<code>■</code>) like the following ones is enough:\n",
    "</div>\n",
    "\n",
    "```\n",
    "         ***                 ■■■    \n",
    "        *****               ■■■■■   \n",
    "       **** ***            ■■■■ ■■■ \n",
    "       *******             ■■■■■■■  \n",
    "        *****               ■■■■■   \n",
    "         ***                 ■■■    \n",
    "        *****               ■■■■■   \n",
    "*     ********      ■     ■■■■■■■■  \n",
    "***  ***   ***      ■■■  ■■■   ■■■  \n",
    "******* *** **      ■■■■■■■ ■■■ ■■  \n",
    " ***** **** **       ■■■■■ ■■■■ ■■  \n",
    " ********  **        ■■■■■■■■  ■■   \n",
    "  **********          ■■■■■■■■■■    \n",
    "    ** ***              ■■ ■■■      \n",
    "      ******              ■■■■■■    \n",
    "\n",
    "```"
   ]
  },
  {
   "cell_type": "code",
   "execution_count": 5,
   "metadata": {
    "jupyter": {
     "outputs_hidden": false
    }
   },
   "outputs": [],
   "source": [
    "from facile import *\n",
    "\n",
    "def Picross(pattern):\n",
    "    lines, columns = pattern\n",
    "    n_l, n_c = len(lines), len(columns)\n",
    "    \n",
    "    # Numbers of blocks on each line/column\n",
    "    m_l = [len(lines[i]) for i in range(n_l)]\n",
    "    m_c = [len(columns[j]) for j in range(n_c)]\n",
    "\n",
    "\n",
    "    # Binary variables associated to the color of each cell on each line/column\n",
    "    bl = [array([variable([0,1]) for j in range(n_c)]) for i in range(n_l)]\n",
    "    bc = [array([variable([0,1]) for i in range(n_l)]) for j in range(n_c)]\n",
    "    # Integer variables associated to the bottom/left coordinate of each black cluster on each line/column\n",
    "    l = [array([variable(range(n_l)) for k in range(m_l[i])]) for i in range(n_l)]\n",
    "    c = [array([variable(range(n_c)) for k in range(m_c[j])]) for j in range(n_c)]\n",
    "\n",
    "\n",
    "    # The black cells on each line/column should be consistent\n",
    "    for i in range(n_l):\n",
    "        for j in range(n_c):\n",
    "            constraint(bl[i][j] == bc[j][i])\n",
    "\n",
    "\n",
    "    # Equality constraints: the total number of black cells on each line/column should be equal\n",
    "    for i in range(n_l):\n",
    "        constraint(sum(bl[i])==sum(lines[i]))\n",
    "    for j in range(n_c):\n",
    "        constraint(sum(bc[j])==sum(columns[j]))\n",
    "\n",
    "\n",
    "    # Inequality constraints: two blocks do not overlap on each line/column\n",
    "    for i in range(n_l):\n",
    "        for k in range(m_l[i]-1):\n",
    "            constraint(l[i][k+1] - l[i][k] > lines[i][k])\n",
    "    for j in range(n_c):\n",
    "        for k in range(m_c[j]-1):\n",
    "            constraint(c[j][k+1] - c[j][k] > columns[j][k])\n",
    "\n",
    "\n",
    "    # Link constraints: the number of cells occupied by each block on each line/column must be consistent\n",
    "    for i in range(n_l):\n",
    "        for k in range(m_l[i]):\n",
    "            if lines[i][k] > 0:\n",
    "                constraint(sum(bl[i][l[i][k]+p] for p in range(lines[i][k]))==lines[i][k]) \n",
    "            else:\n",
    "                constraint(sum(bl[i][j] for j in range(n_c)) == 0)\n",
    "    for j in range(n_c):\n",
    "        for k in range(m_c[j]):\n",
    "            if columns[j][k] > 0:\n",
    "                constraint(sum(bc[j][c[j][k]+p] for p in range(columns[j][k]))==columns[j][k])\n",
    "            else:\n",
    "                constraint(sum(bc[j][i] for i in range(n_l)) == 0)\n",
    "\n",
    "\n",
    "    white = \" \"\n",
    "    black = \"*\"  \n",
    "\n",
    "    solver = solve([bc_ij for bc_i in bc for bc_ij in bc_i] \\\n",
    "                 + [bl_ij for bl_i in bl for bl_ij in bl_i] \\\n",
    "                 + [l_ik for l_i in l for l_ik in l_i] \\\n",
    "                 + [c_ik for c_i in c for c_ik in c_i])   \n",
    "\n",
    "    if solver:\n",
    "        for i in range(n_l):\n",
    "            str = ''\n",
    "            for j in range(n_c):\n",
    "                if bl[i][j].value()==0:\n",
    "                    str += white\n",
    "                else:\n",
    "                    str += black\n",
    "            print(str)\n",
    "    print(solver)\n",
    "    "
   ]
  },
  {
   "cell_type": "code",
   "execution_count": 6,
   "metadata": {},
   "outputs": [
    {
     "name": "stdout",
     "output_type": "stream",
     "text": [
      "  ** \n",
      "   **\n",
      "*  **\n",
      "*****\n",
      " *** \n",
      "Current solution              : [0, 0, 1, 1, 0, 0, ...]\n",
      "Resolution status             : True\n",
      "Resolution time               : 0.00023s\n",
      "\n",
      "** **\n",
      "** **\n",
      "     \n",
      "*   *\n",
      "* * *\n",
      "Current solution              : [1, 1, 0, 1, 1, 1, ...]\n",
      "Resolution status             : True\n",
      "Resolution time               : 2.6e-05s\n",
      "\n",
      " *   *    \n",
      " ** **    \n",
      " *****    \n",
      " * * *    \n",
      "*******   \n",
      " *****  **\n",
      "  ***    *\n",
      "  ***    *\n",
      "  ****  **\n",
      "  ******* \n",
      "Current solution              : [0, 0, 0, 0, 1, 0, ...]\n",
      "Resolution status             : True\n",
      "Resolution time               : 0.08s\n",
      "\n",
      "   *      \n",
      "****      \n",
      "****     *\n",
      "  ********\n",
      "  **   ** \n",
      "  *** *** \n",
      "*  *****  \n",
      "* **  ** *\n",
      "***    ***\n",
      " ******** \n",
      "Current solution              : [0, 1, 1, 0, 0, 0, ...]\n",
      "Resolution status             : True\n",
      "Resolution time               : 0.02s\n",
      "\n",
      "         ***   \n",
      "        *****  \n",
      "       **** ***\n",
      "       ******* \n",
      "        *****  \n",
      "         ***   \n",
      "        *****  \n",
      "*     ******** \n",
      "***  ***   *** \n",
      "******* *** ** \n",
      " ***** **** ** \n",
      " ********  **  \n",
      "  **********   \n",
      "    ** ***     \n",
      "      ******   \n",
      "Current solution              : [0, 0, 0, 0, 0, 0, ...]\n",
      "Resolution status             : True\n",
      "Resolution time               : 1s\n",
      "\n",
      "       *       \n",
      " **  *****     \n",
      " ** ** * **    \n",
      " ***********   \n",
      " ***** * ***** \n",
      "***************\n",
      "*             *\n",
      "* *****       *\n",
      "* * * * ***** *\n",
      "* ***** ***** *\n",
      "* * * * ***** *\n",
      "* ***** ***** *\n",
      "*       ***** *\n",
      "*       ***** *\n",
      "*       ***** *\n",
      "Current solution              : [0, 0, 0, 0, 0, 1, ...]\n",
      "Resolution status             : True\n",
      "Resolution time               : 0.45s\n",
      "\n"
     ]
    }
   ],
   "source": [
    "from picross import picross\n",
    "\n",
    "# All patterns that can be choosed from\n",
    "patterns = ['moon', 'star', 'cat', 'horse', 'duck', 'house']\n",
    "\n",
    "for pattern in patterns:\n",
    "    Picross(picross[pattern])"
   ]
  }
 ],
 "metadata": {
  "kernelspec": {
   "display_name": "Python 3",
   "language": "python",
   "name": "python3"
  },
  "language_info": {
   "codemirror_mode": {
    "name": "ipython",
    "version": 3
   },
   "file_extension": ".py",
   "mimetype": "text/x-python",
   "name": "python",
   "nbconvert_exporter": "python",
   "pygments_lexer": "ipython3",
   "version": "3.7.6"
  },
  "widgets": {
   "application/vnd.jupyter.widget-state+json": {
    "state": {},
    "version_major": 2,
    "version_minor": 0
   }
  }
 },
 "nbformat": 4,
 "nbformat_minor": 4
}
